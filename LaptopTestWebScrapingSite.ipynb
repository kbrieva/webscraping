{
 "cells": [
  {
   "cell_type": "code",
   "execution_count": 167,
   "id": "b419f40a-5395-4e26-8d6c-3db568cde543",
   "metadata": {},
   "outputs": [],
   "source": [
    "import requests as req\n",
    "from bs4 import BeautifulSoup as bea\n",
    "import pandas as pd"
   ]
  },
  {
   "cell_type": "code",
   "execution_count": 15,
   "id": "68214851-31c8-4596-a1c1-7e10924667e2",
   "metadata": {},
   "outputs": [],
   "source": [
    "url = 'https://webscraper.io/test-sites/e-commerce/allinone/computers/laptops'"
   ]
  },
  {
   "cell_type": "code",
   "execution_count": 109,
   "id": "dbedcd10-7b26-4bf8-8fea-e98798802467",
   "metadata": {},
   "outputs": [],
   "source": [
    "headers = {\n",
    "    'User-agent':'Mozilla/5.0 (Windows NT 10.0; Win64; x64; rv:109.0) Gecko/20100101 Firefox/118.0'\n",
    "}"
   ]
  },
  {
   "cell_type": "code",
   "execution_count": 110,
   "id": "b1f1e893-5f39-4ee0-ad36-c0ce3d227caf",
   "metadata": {},
   "outputs": [],
   "source": [
    "res = req.get(url, headers=headers)"
   ]
  },
  {
   "cell_type": "code",
   "execution_count": 111,
   "id": "b49e083c-73b4-44f3-a681-98df42463c2c",
   "metadata": {},
   "outputs": [],
   "source": [
    "soup = bea(res.content, 'html.parser')"
   ]
  },
  {
   "cell_type": "code",
   "execution_count": 127,
   "id": "3d22e7cc-6dd2-47be-bc92-10ebc8268d15",
   "metadata": {},
   "outputs": [],
   "source": [
    "test = []\n",
    "for link in soup.findAll('a', class_='title', href=True):\n",
    "    links = link['href']\n",
    "    test.append('https://webscraper.io' + links)"
   ]
  },
  {
   "cell_type": "code",
   "execution_count": 161,
   "id": "f4ced963-03d9-4fd2-aa20-c44fc5e7c807",
   "metadata": {},
   "outputs": [],
   "source": [
    "Laptop_list = []\n",
    "for link in test:\n",
    "    res = req.get(link, headers=headers)\n",
    "    soup = bea(res.content, 'html.parser')\n",
    "    laptop_brand = soup.findAll('h4')[1].text\n",
    "    laptop_price = soup.findAll('h4')[0].text\n",
    "    laptop_description = soup.find('p', class_='description').text\n",
    "    ratings = soup.find('div', class_='ratings').text.strip()\n",
    "    # print(laptop_brand, laptop_price, laptop_description, ratings)\n",
    "    lap_dec = {\n",
    "        'Laptop name' : laptop_brand,\n",
    "        'Price' : laptop_price,\n",
    "        'Laptop Description' : laptop_description,\n",
    "        'Ratings' : ratings,\n",
    "    }\n",
    "    Laptop_list.append(lap_dec)"
   ]
  },
  {
   "cell_type": "code",
   "execution_count": 164,
   "id": "14b3709d-60bf-41ac-b45d-3d2690173c77",
   "metadata": {},
   "outputs": [],
   "source": [
    "df = pd.DataFrame(Laptop_list)"
   ]
  },
  {
   "cell_type": "code",
   "execution_count": 166,
   "id": "31fc0a80-2109-4a52-8b49-ef7ce77ba9ae",
   "metadata": {},
   "outputs": [],
   "source": [
    "df.to_csv(\"LaptopWebScraping.csv\", index=False)"
   ]
  },
  {
   "cell_type": "code",
   "execution_count": null,
   "id": "45fa857b-03c2-4a03-8b96-92857958a041",
   "metadata": {},
   "outputs": [],
   "source": []
  }
 ],
 "metadata": {
  "kernelspec": {
   "display_name": "Python 3 (ipykernel)",
   "language": "python",
   "name": "python3"
  },
  "language_info": {
   "codemirror_mode": {
    "name": "ipython",
    "version": 3
   },
   "file_extension": ".py",
   "mimetype": "text/x-python",
   "name": "python",
   "nbconvert_exporter": "python",
   "pygments_lexer": "ipython3",
   "version": "3.11.5"
  }
 },
 "nbformat": 4,
 "nbformat_minor": 5
}
