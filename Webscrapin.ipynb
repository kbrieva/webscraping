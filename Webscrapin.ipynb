{
 "cells": [
  {
   "cell_type": "markdown",
   "id": "aca931f7-894a-48d5-aa1d-c8be72fbb44e",
   "metadata": {},
   "source": [
    "# importing library"
   ]
  },
  {
   "cell_type": "code",
   "execution_count": 1,
   "id": "e74dc318-378d-4733-b538-11cb533ab7a8",
   "metadata": {},
   "outputs": [],
   "source": [
    "import requests as req\n",
    "from bs4 import BeautifulSoup as bea\n",
    "import os\n",
    "import time\n",
    "import shutil\n",
    "import random"
   ]
  },
  {
   "cell_type": "code",
   "execution_count": 2,
   "id": "4a4776ee-722a-40fb-9976-0e2d9902ecce",
   "metadata": {},
   "outputs": [],
   "source": [
    "### Getting the url of the targeted site"
   ]
  },
  {
   "cell_type": "code",
   "execution_count": 3,
   "id": "94fc9d4c-d5d6-49a9-817e-ca65b16506f1",
   "metadata": {},
   "outputs": [],
   "source": [
    "main_url = \"https://www.pngmart.com/sitemap.xml\"\n",
    "file_path = 'PNG'"
   ]
  },
  {
   "cell_type": "code",
   "execution_count": 4,
   "id": "5101e250-9150-420f-8613-28b307038e92",
   "metadata": {},
   "outputs": [],
   "source": [
    "def url_get(url):\n",
    "    try:\n",
    "        response = req.get(url)\n",
    "        if response.status_code == 200:\n",
    "            soup = bea(response.text, 'html.parser')\n",
    "            return soup\n",
    "            \n",
    "        else:\n",
    "            return \"Error occur\"\n",
    "    except Exception as e:\n",
    "        print(f\"Error occur {e}\")"
   ]
  },
  {
   "cell_type": "code",
   "execution_count": 7,
   "id": "9a9fa557-dd3a-48d8-8670-9477df6b9b41",
   "metadata": {},
   "outputs": [],
   "source": [
    "site_map = []\n",
    "list = url_get(main_url).findAll('loc')"
   ]
  },
  {
   "cell_type": "code",
   "execution_count": 8,
   "id": "47dcf21a-ddb2-46f5-89ff-630818f4af9e",
   "metadata": {},
   "outputs": [],
   "source": [
    "for link in list:\n",
    "    if 'posts' in link.text:\n",
    "        site_map.append(link.text)"
   ]
  },
  {
   "cell_type": "code",
   "execution_count": 9,
   "id": "23afbcc7-eb28-4ce5-af1a-ed4407a9286f",
   "metadata": {},
   "outputs": [
    {
     "data": {
      "text/plain": [
       "'https://www.pngmart.com/sitemap-posts-1.xml'"
      ]
     },
     "execution_count": 9,
     "metadata": {},
     "output_type": "execute_result"
    }
   ],
   "source": [
    "site_map[1]"
   ]
  },
  {
   "cell_type": "code",
   "execution_count": 32,
   "id": "6769301e-92b1-459d-a919-fe9a9036c102",
   "metadata": {},
   "outputs": [],
   "source": [
    "s_1 = url_get(site_map[13]).findAll('loc')\n",
    "random_delay = random.uniform(1, 20)"
   ]
  },
  {
   "cell_type": "code",
   "execution_count": null,
   "id": "51ddb951-f40a-4dc2-8f4a-5249651f648a",
   "metadata": {},
   "outputs": [
    {
     "name": "stdout",
     "output_type": "stream",
     "text": [
      "already download, skipping  PNG\\727590-Baja-Blast-PNG-Transparent.png\n",
      "already download, skipping  PNG\\727588-Baja-Blast-PNG-Picture.png\n",
      "already download, skipping  PNG\\727586-Baja-Blast-PNG-Pic.png\n",
      "already download, skipping  PNG\\727584-Baja-Blast-PNG-Photos.png\n",
      "already download, skipping  PNG\\727582-Baja-Blast-PNG-Photo.png\n",
      "already download, skipping  PNG\\727580-Baja-Blast-PNG-Isolated-HD.png\n",
      "already download, skipping  PNG\\727578-Baja-Blast-PNG-Image.png\n",
      "already download, skipping  PNG\\727576-Baja-Blast-PNG-HD.png\n",
      "already download, skipping  PNG\\727574-Baja-Blast-PNG-HD-Isolated.png\n",
      "already download, skipping  PNG\\727572-Baja-Blast-PNG-File.png\n",
      "already download, skipping  PNG\\727570-Baja-Blast-PNG-Clipart.png\n",
      "already download, skipping  PNG\\727568-Badtz-Maru-Transparent-PNG.png\n",
      "already download, skipping  PNG\\727566-Badtz-Maru-PNG.png\n",
      "already download, skipping  PNG\\727564-Badtz-Maru-PNG-Transparent.png\n",
      "already download, skipping  PNG\\727562-Badtz-Maru-PNG-Picture.png\n",
      "already download, skipping  PNG\\727560-Badtz-Maru-PNG-Pic.png\n",
      "already download, skipping  PNG\\727558-Badtz-Maru-PNG-Photos.png\n",
      "already download, skipping  PNG\\727556-Badtz-Maru-PNG-Photo.png\n",
      "already download, skipping  PNG\\727554-Badtz-Maru-PNG-Isolated-Pic.webp\n",
      "already download, skipping  PNG\\727552-Badtz-Maru-PNG-Isolated-Photo.png\n",
      "already download, skipping  PNG\\727550-Badtz-Maru-PNG-Isolated-Image.png\n",
      "already download, skipping  PNG\\727548-Badtz-Maru-PNG-Isolated-HD.png\n",
      "already download, skipping  PNG\\727546-Badtz-Maru-PNG-Isolated-File.png\n",
      "already download, skipping  PNG\\727544-Badtz-Maru-PNG-Image.png\n",
      "already download, skipping  PNG\\727542-Badtz-Maru-PNG-HD.png\n",
      "already download, skipping  PNG\\727540-Badtz-Maru-PNG-HD-Isolated.png\n",
      "already download, skipping  PNG\\727538-Badtz-Maru-PNG-Free-Download.png\n",
      "already download, skipping  PNG\\727536-Badtz-Maru-PNG-File.png\n",
      "already download, skipping  PNG\\727534-Badtz-Maru-PNG-Clipart.png\n",
      "already download, skipping  PNG\\727532-Badtz-Maru-Download-PNG-Image.png\n",
      "already download, skipping  PNG\\727530-Bacon-Hair-PNG.png\n",
      "already download, skipping  PNG\\727528-Bacon-Hair-PNG-Pic.png\n",
      "already download, skipping  PNG\\727526-Bacon-Hair-PNG-HD.png\n",
      "already download, skipping  PNG\\727524-Bacon-Hair-PNG-File.png\n",
      "already download, skipping  PNG\\727522-Babyshark-Transparent-PNG.png\n",
      "already download, skipping  PNG\\727520-Babyshark-PNG.png\n",
      "already download, skipping  PNG\\727518-Babyshark-PNG-Transparent.png\n",
      "already download, skipping  PNG\\727516-Babyshark-PNG-Picture.png\n",
      "already download, skipping  PNG\\727514-Babyshark-PNG-Pic.png\n",
      "already download, skipping  PNG\\727512-Babyshark-PNG-Photos.png\n",
      "already download, skipping  PNG\\727510-Babyshark-PNG-Photo.webp\n",
      "already download, skipping  PNG\\727508-Babyshark-PNG-Isolated-Pic.png\n",
      "already download, skipping  PNG\\727506-Babyshark-PNG-Isolated-HD.png\n",
      "already download, skipping  PNG\\727504-Babyshark-PNG-Isolated-File.png\n",
      "already download, skipping  PNG\\727502-Babyshark-PNG-Image.webp\n",
      "already download, skipping  PNG\\727500-Babyshark-PNG-HD.png\n",
      "already download, skipping  PNG\\727498-Babyshark-PNG-HD-Isolated.png\n",
      "already download, skipping  PNG\\727496-Babyshark-PNG-Free-Download.png\n",
      "already download, skipping  PNG\\727494-Babyshark-PNG-File.png\n",
      "already download, skipping  PNG\\727492-Babyshark-PNG-Clipart.png\n",
      "already download, skipping  PNG\\727490-Baby-Feet-Transparent-PNG.png\n",
      "already download, skipping  PNG\\727488-Baby-Feet-PNG.png\n",
      "already download, skipping  PNG\\727486-Baby-Feet-PNG-Transparent.png\n",
      "already download, skipping  PNG\\727484-Baby-Feet-PNG-Picture.png\n",
      "already download, skipping  PNG\\727482-Baby-Feet-PNG-Pic.png\n",
      "already download, skipping  PNG\\727480-Baby-Feet-PNG-Photos.png\n",
      "already download, skipping  PNG\\727478-Baby-Feet-PNG-Photo.png\n",
      "already download, skipping  PNG\\727476-Baby-Feet-PNG-Isolated-Pic.png\n",
      "already download, skipping  PNG\\727474-Baby-Feet-PNG-Isolated-HD.png\n",
      "already download, skipping  PNG\\727472-Baby-Feet-PNG-Isolated-File.png\n",
      "already download, skipping  PNG\\727470-Baby-Feet-PNG-Image.png\n",
      "already download, skipping  PNG\\727468-Baby-Feet-PNG-HD.png\n",
      "already download, skipping  PNG\\727466-Baby-Feet-PNG-HD-Isolated.png\n",
      "already download, skipping  PNG\\727464-Baby-Feet-PNG-Free-Download.png\n",
      "already download, skipping  PNG\\727462-Baby-Feet-PNG-File.png\n",
      "already download, skipping  PNG\\727460-Baby-Feet-PNG-Clipart.png\n",
      "already download, skipping  PNG\\727458-Baby-Bottle-Transparent-PNG.png\n",
      "already download, skipping  PNG\\727456-Baby-Bottle-PNG.png\n",
      "999 727454-Baby-Bottle-PNG-Transparent.png\n",
      "998 727452-Baby-Bottle-PNG-Picture.png\n",
      "997 727450-Baby-Bottle-PNG-Pic.png\n",
      "996 727448-Baby-Bottle-PNG-Photos.png\n",
      "995 727446-Baby-Bottle-PNG-Photo.png\n",
      "994 727444-Baby-Bottle-PNG-Isolated-Pic.png\n",
      "993 727442-Baby-Bottle-PNG-Isolated-Image.png\n",
      "992 727440-Baby-Bottle-PNG-Isolated-HD.png\n",
      "991 727438-Baby-Bottle-PNG-Isolated-File.png\n",
      "990 727436-Baby-Bottle-PNG-Image.png\n",
      "989 727434-Baby-Bottle-PNG-HD.png\n",
      "988 727432-Baby-Bottle-PNG-HD-Isolated.png\n",
      "987 727430-Baby-Bottle-PNG-Free-Download.png\n",
      "986 727428-Baby-Bottle-PNG-File.png\n",
      "985 727426-Baby-Bottle-PNG-Clipart.png\n",
      "984 727424-Audio-Wave-Transparent-PNG.png\n",
      "983 727422-Audio-Wave-PNG.png\n",
      "982 727420-Audio-Wave-PNG-Transparent.png\n",
      "981 727418-Audio-Wave-PNG-Picture.png\n",
      "980 727416-Audio-Wave-PNG-Pic.png\n",
      "979 727414-Audio-Wave-PNG-Photos.png\n",
      "978 727412-Audio-Wave-PNG-Photo.png\n",
      "977 727410-Audio-Wave-PNG-Isolated-Pic.png\n",
      "976 727408-Audio-Wave-PNG-Isolated-HD.png\n",
      "975 727406-Audio-Wave-PNG-Isolated-File.png\n",
      "974 727404-Audio-Wave-PNG-Image.png\n",
      "973 727402-Audio-Wave-PNG-HD.png\n",
      "972 727400-Audio-Wave-PNG-HD-Isolated.png\n",
      "971 727398-Audio-Wave-PNG-Free-Download.png\n",
      "970 727396-Audio-Wave-PNG-File.png\n",
      "969 727394-Audio-Wave-PNG-Clipart.png\n",
      "968 727392-Audio-Icon-PNG.png\n",
      "967 727390-Audio-Icon-PNG-Pic.png\n",
      "966 727388-Audio-Icon-PNG-Photo.png\n",
      "965 727386-Audio-Icon-PNG-Image.png\n",
      "964 727384-Audio-Icon-PNG-HD.png\n",
      "963 727382-Audio-Icon-PNG-File.png\n",
      "962 727380-Astrology-Transparent-PNG.png\n",
      "961 727378-Astrology-PNG.png\n",
      "960 727376-Astrology-PNG-Transparent.png\n",
      "959 727374-Astrology-PNG-Picture.png\n",
      "958 727372-Astrology-PNG-Pic.png\n",
      "957 727370-Astrology-PNG-Photos.png\n",
      "956 727368-Astrology-PNG-Photo.webp\n",
      "955 727366-Astrology-PNG-Isolated-Pic.png\n",
      "954 727364-Astrology-PNG-Isolated-HD.png\n",
      "953 727362-Astrology-PNG-Isolated-File.png\n",
      "952 727360-Astrology-PNG-Image.png\n",
      "951 727358-Astrology-PNG-HD.png\n",
      "950 727356-Astrology-PNG-HD-Isolated.png\n",
      "949 727354-Astrology-PNG-Free-Download.png\n",
      "948 727352-Astrology-PNG-File.png\n",
      "947 727350-Astrology-PNG-Clipart.png\n",
      "946 727348-Astro-Boy-Transparent-PNG.png\n",
      "945 727346-Astro-Boy-PNG.png\n",
      "944 727344-Astro-Boy-PNG-Transparent.png\n",
      "943 727342-Astro-Boy-PNG-Picture.png\n",
      "942 727340-Astro-Boy-PNG-Pic.png\n",
      "941 727338-Astro-Boy-PNG-Photos.png\n",
      "940 727336-Astro-Boy-PNG-Photo.png\n",
      "939 727334-Astro-Boy-PNG-Isolated-Pic.png\n",
      "938 727332-Astro-Boy-PNG-Isolated-Image.png\n",
      "937 727330-Astro-Boy-PNG-Isolated-HD.png\n",
      "936 727328-Astro-Boy-PNG-Isolated-File.png\n",
      "935 727326-Astro-Boy-PNG-Image.png\n",
      "934 727324-Astro-Boy-PNG-HD.png\n",
      "933 727322-Astro-Boy-PNG-HD-Isolated.png\n",
      "932 727320-Astro-Boy-PNG-Free-Download.png\n",
      "931 727318-Astro-Boy-PNG-File.png\n",
      "930 727316-Astro-Boy-PNG-Clipart.png\n",
      "929 727314-Army-Helmet-Transparent-PNG.png\n",
      "928 727312-Army-Helmet-PNG.png\n",
      "927 727310-Army-Helmet-PNG-Transparent.png\n",
      "926 727308-Army-Helmet-PNG-Picture.png\n",
      "925 727306-Army-Helmet-PNG-Pic.png\n",
      "924 727304-Army-Helmet-PNG-Photos.png\n"
     ]
    }
   ],
   "source": [
    "list_s1 = []\n",
    "png_download = 1000\n",
    "for link in s_1:\n",
    "    list = (link.text)\n",
    "    list_s1.append(list)\n",
    "    test = url_get(list).find('a', 'download')['href']\n",
    "    title = list.split('/')[-1]+\"-\"+test.split('/')[-1]\n",
    "    main_title = os.path.join(file_path, title)\n",
    "    if not os.path.exists(main_title):\n",
    "        response = req.get(test)\n",
    "        with open(main_title, 'wb') as file:\n",
    "            file.write(response.content)\n",
    "            time.sleep(random_delay)\n",
    "            png_download -= 1\n",
    "            print(png_download, title)\n",
    "    else:\n",
    "        print('already download, skipping ', main_title)\n",
    "        \n",
    " \n",
    "    \n",
    "    \n"
   ]
  },
  {
   "cell_type": "code",
   "execution_count": 13,
   "id": "386d778b-4e66-4112-8de2-c3c38131c0d8",
   "metadata": {},
   "outputs": [],
   "source": []
  }
 ],
 "metadata": {
  "kernelspec": {
   "display_name": "Python 3 (ipykernel)",
   "language": "python",
   "name": "python3"
  },
  "language_info": {
   "codemirror_mode": {
    "name": "ipython",
    "version": 3
   },
   "file_extension": ".py",
   "mimetype": "text/x-python",
   "name": "python",
   "nbconvert_exporter": "python",
   "pygments_lexer": "ipython3",
   "version": "3.11.5"
  }
 },
 "nbformat": 4,
 "nbformat_minor": 5
}
